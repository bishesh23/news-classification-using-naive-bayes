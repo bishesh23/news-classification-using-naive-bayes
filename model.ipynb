{
 "cells": [],
 "metadata": {
  "kernelspec": {
   "display_name": "Python 3",
   "language": "python",
   "name": "python3"
  },
  "language_info": {
   "codemirror_mode": {
    "name": "ipython",
    "version": 2
   },
   "file_extension": ".py",
   "mimetype": "text/x-python",
   "name": "python",
   "nbconvert_exporter": "python",
   "pygments_lexer": "ipython2",
   "version": "2.7.6"
  },
  "pycharm": {
   "stem_cell": {
    "cell_type": "raw",
    "source": [
     "### EDA packages and Web\n",
     "import pandas as pd\n",
     "import lxml\n",
     "import requests\n",
     "\n",
     "\n",
     "\n",
     "\n",
     "            \"https://www.reuters.com/politics\",\n",
     "            \"https://www.reuters.com/finance\",\n",
     "            \"https://www.reuters.com/news/sports\",\n",
     "            \"https://www.reuters.com/news/technology\"]\n",
     "            \n",
     "feeds_list = [\n",
     "            \"http://feeds.reuters.com/reuters/businessNews\",\n",
     "            \"http://feeds.reuters.com/reuters/technologyNews\",\n",
     "            \"http://feeds.reuters.com/reuters/sportsNews\",\n",
     "            \"http://feeds.reuters.com/reuters/healthNews\",\n",
     "            \"http://feeds.reuters.com/reuters/politicsNews\",]#%%\n",
     "\n",
     "\n",
     "\n"
    ],
    "metadata": {
     "collapsed": false
    }
   }
  }
 },
 "nbformat": 4,
 "nbformat_minor": 0
}